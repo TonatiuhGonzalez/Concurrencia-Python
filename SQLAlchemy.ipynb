{
 "cells": [
  {
   "attachments": {},
   "cell_type": "markdown",
   "metadata": {},
   "source": [
    "<div style=\"display:flex;flex-direction:row;justify-content: space-evenly;\">\n",
    "    <img src=\"mexico.jpg\" style=\"height:200px;\">\n",
    "    <img src=\"colima.svg\" style=\"width:200px\">\n",
    "</div>\n",
    "<div style=\"display:flex;flex-direction:column;gap:20px;text-align:center\">\n",
    "<h1>Tecnológico Nacional de México campus Colima</h1>\n",
    "<h2>Maestría en Sistemas Computacionales</h2>\n",
    "<h2>Tecnologías de programación</h2>\n",
    "<h2>Actividad -  Introducción a SQLAlchemy</h2>\n",
    "<h2>D. en C. Patricia Elizabeth Figueroa Millán</h2>\n",
    "<h3>Sabino Tonatiuh González Rodríguez | G2146014</h3>\n",
    "<p >Villa de Álvarez, Colima - 15 de diciembre de 2022</p>\n",
    "</div>"
   ]
  },
  {
   "cell_type": "code",
   "execution_count": 1,
   "metadata": {},
   "outputs": [],
   "source": [
    "import sqlalchemy\n",
    "\n",
    "from sqlalchemy import create_engine\n",
    "engine = create_engine('sqlite:///orm_example.db', echo=True)\n"
   ]
  },
  {
   "cell_type": "code",
   "execution_count": 2,
   "metadata": {},
   "outputs": [],
   "source": [
    "from sqlalchemy.ext.declarative import declarative_base\n",
    "Base = declarative_base()"
   ]
  },
  {
   "cell_type": "code",
   "execution_count": 3,
   "metadata": {},
   "outputs": [],
   "source": [
    "from sqlalchemy import Column, Integer, String\n",
    "\n",
    "class User(Base) :\n",
    "    __tablename__ = 'users'\n",
    "\n",
    "    id = Column(Integer, primary_key=True)\n",
    "    name = Column(String)\n",
    "    fullname = Column(String)\n",
    "    password = Column(String)\n",
    "\n",
    "    def __repr__(self):\n",
    "        return \"<User(name='%s', fullname='%s', password='%s')>\" % (\n",
    "            self.name, self.fullname, self.password)\n"
   ]
  },
  {
   "cell_type": "code",
   "execution_count": 4,
   "metadata": {},
   "outputs": [
    {
     "name": "stdout",
     "output_type": "stream",
     "text": [
      "2022-12-15 17:41:55,817 INFO sqlalchemy.engine.Engine BEGIN (implicit)\n",
      "2022-12-15 17:41:55,833 INFO sqlalchemy.engine.Engine PRAGMA main.table_info(\"users\")\n",
      "2022-12-15 17:41:55,833 INFO sqlalchemy.engine.Engine [raw sql] ()\n",
      "2022-12-15 17:41:55,833 INFO sqlalchemy.engine.Engine COMMIT\n"
     ]
    }
   ],
   "source": [
    "Base.metadata.create_all(engine)"
   ]
  },
  {
   "cell_type": "code",
   "execution_count": 5,
   "metadata": {},
   "outputs": [],
   "source": [
    "from sqlalchemy.orm import sessionmaker\n",
    "\n",
    "Session = sessionmaker(bind=engine)\n",
    "session = Session()"
   ]
  },
  {
   "cell_type": "code",
   "execution_count": 6,
   "metadata": {},
   "outputs": [
    {
     "data": {
      "text/plain": [
       "<User(name='Patricia', fullname='Patricia Figueroa Millan', password='lifeonmars')>"
      ]
     },
     "execution_count": 6,
     "metadata": {},
     "output_type": "execute_result"
    }
   ],
   "source": [
    "patricia = User(name='Patricia', fullname='Patricia Figueroa Millan', password='lifeonmars')\n",
    "session.add(patricia)\n",
    "patricia"
   ]
  },
  {
   "cell_type": "code",
   "execution_count": 7,
   "metadata": {},
   "outputs": [
    {
     "name": "stdout",
     "output_type": "stream",
     "text": [
      "2022-12-15 17:41:56,072 INFO sqlalchemy.engine.Engine BEGIN (implicit)\n",
      "2022-12-15 17:41:56,072 INFO sqlalchemy.engine.Engine INSERT INTO users (name, fullname, password) VALUES (?, ?, ?)\n",
      "2022-12-15 17:41:56,072 INFO sqlalchemy.engine.Engine [generated in 0.00140s] ('Patricia', 'Patricia Figueroa Millan', 'lifeonmars')\n",
      "2022-12-15 17:41:56,087 INFO sqlalchemy.engine.Engine SELECT users.id AS users_id, users.name AS users_name, users.fullname AS users_fullname, users.password AS users_password \n",
      "FROM users \n",
      "WHERE users.name = ?\n",
      " LIMIT ? OFFSET ?\n",
      "2022-12-15 17:41:56,087 INFO sqlalchemy.engine.Engine [generated in 0.00119s] ('Patricia', 1, 0)\n"
     ]
    }
   ],
   "source": [
    "user = session.query(User).filter_by(name='Patricia').first()\n"
   ]
  },
  {
   "cell_type": "code",
   "execution_count": 8,
   "metadata": {},
   "outputs": [
    {
     "data": {
      "text/plain": [
       "False"
      ]
     },
     "execution_count": 8,
     "metadata": {},
     "output_type": "execute_result"
    }
   ],
   "source": [
    "patricia is user"
   ]
  },
  {
   "cell_type": "code",
   "execution_count": 9,
   "metadata": {},
   "outputs": [],
   "source": [
    "session.add_all([\n",
    "    User(name='Pedro',fullname='Pedro Alvarez', password='12345'),\n",
    "    User(name='Pablo',fullname='Pablo Perez', password='67890'),\n",
    "    User(name='Penelope',fullname='Penelope Sanchez', password='09876')])\n",
    "patricia.password = '3121077428'"
   ]
  },
  {
   "cell_type": "code",
   "execution_count": 10,
   "metadata": {},
   "outputs": [
    {
     "name": "stdout",
     "output_type": "stream",
     "text": [
      "2022-12-15 17:41:56,278 INFO sqlalchemy.engine.Engine UPDATE users SET password=? WHERE users.id = ?\n",
      "2022-12-15 17:41:56,278 INFO sqlalchemy.engine.Engine [generated in 0.00177s] ('3121077428', 10)\n",
      "2022-12-15 17:41:56,278 INFO sqlalchemy.engine.Engine INSERT INTO users (name, fullname, password) VALUES (?, ?, ?)\n",
      "2022-12-15 17:41:56,278 INFO sqlalchemy.engine.Engine [cached since 0.2043s ago] ('Pedro', 'Pedro Alvarez', '12345')\n",
      "2022-12-15 17:41:56,278 INFO sqlalchemy.engine.Engine INSERT INTO users (name, fullname, password) VALUES (?, ?, ?)\n",
      "2022-12-15 17:41:56,278 INFO sqlalchemy.engine.Engine [cached since 0.2074s ago] ('Pablo', 'Pablo Perez', '67890')\n",
      "2022-12-15 17:41:56,278 INFO sqlalchemy.engine.Engine INSERT INTO users (name, fullname, password) VALUES (?, ?, ?)\n",
      "2022-12-15 17:41:56,278 INFO sqlalchemy.engine.Engine [cached since 0.2102s ago] ('Penelope', 'Penelope Sanchez', '09876')\n",
      "2022-12-15 17:41:56,278 INFO sqlalchemy.engine.Engine COMMIT\n"
     ]
    }
   ],
   "source": [
    "session.commit()"
   ]
  },
  {
   "cell_type": "code",
   "execution_count": 11,
   "metadata": {},
   "outputs": [
    {
     "name": "stdout",
     "output_type": "stream",
     "text": [
      "2022-12-15 17:41:56,341 INFO sqlalchemy.engine.Engine BEGIN (implicit)\n",
      "2022-12-15 17:41:56,341 INFO sqlalchemy.engine.Engine SELECT users.id AS users_id, users.fullname AS users_fullname, users.password AS users_password \n",
      "FROM users \n",
      "WHERE users.id = ?\n",
      "2022-12-15 17:41:56,341 INFO sqlalchemy.engine.Engine [generated in 0.00221s] (10,)\n",
      "2022-12-15 17:41:56,341 INFO sqlalchemy.engine.Engine UPDATE users SET name=? WHERE users.id = ?\n",
      "2022-12-15 17:41:56,357 INFO sqlalchemy.engine.Engine [generated in 0.00130s] ('Eduardo', 10)\n",
      "2022-12-15 17:41:56,357 INFO sqlalchemy.engine.Engine INSERT INTO users (name, fullname, password) VALUES (?, ?, ?)\n",
      "2022-12-15 17:41:56,357 INFO sqlalchemy.engine.Engine [cached since 0.2824s ago] ('fakeuser', 'Invalid', '12345')\n",
      "2022-12-15 17:41:56,357 INFO sqlalchemy.engine.Engine SELECT users.id AS users_id, users.name AS users_name, users.fullname AS users_fullname, users.password AS users_password \n",
      "FROM users \n",
      "WHERE users.name IN (?, ?)\n",
      "2022-12-15 17:41:56,357 INFO sqlalchemy.engine.Engine [generated in 0.00188s] ('Eduardo', 'fakeuser')\n"
     ]
    },
    {
     "data": {
      "text/plain": [
       "[<User(name='Eduardo', fullname='Patricia Figueroa Millan', password='3121077428')>,\n",
       " <User(name='fakeuser', fullname='Invalid', password='12345')>]"
      ]
     },
     "execution_count": 11,
     "metadata": {},
     "output_type": "execute_result"
    }
   ],
   "source": [
    "patricia.name = 'Eduardo'\n",
    "\n",
    "fake_user = User(name='fakeuser', fullname='Invalid', password='12345')\n",
    "session.add(fake_user)\n",
    "\n",
    "session.query(User).filter(User.name.in_(['Eduardo', 'fakeuser'])).all()"
   ]
  },
  {
   "cell_type": "code",
   "execution_count": 12,
   "metadata": {},
   "outputs": [
    {
     "name": "stdout",
     "output_type": "stream",
     "text": [
      "2022-12-15 17:41:56,468 INFO sqlalchemy.engine.Engine ROLLBACK\n"
     ]
    }
   ],
   "source": [
    "session.rollback()"
   ]
  },
  {
   "cell_type": "code",
   "execution_count": 13,
   "metadata": {},
   "outputs": [
    {
     "name": "stdout",
     "output_type": "stream",
     "text": [
      "2022-12-15 17:41:56,540 INFO sqlalchemy.engine.Engine BEGIN (implicit)\n",
      "2022-12-15 17:41:56,540 INFO sqlalchemy.engine.Engine SELECT users.id AS users_id, users.name AS users_name, users.fullname AS users_fullname, users.password AS users_password \n",
      "FROM users \n",
      "WHERE users.id = ?\n",
      "2022-12-15 17:41:56,540 INFO sqlalchemy.engine.Engine [generated in 0.00120s] (10,)\n"
     ]
    },
    {
     "data": {
      "text/plain": [
       "'Patricia'"
      ]
     },
     "execution_count": 13,
     "metadata": {},
     "output_type": "execute_result"
    }
   ],
   "source": [
    "patricia.name"
   ]
  },
  {
   "cell_type": "code",
   "execution_count": 14,
   "metadata": {},
   "outputs": [
    {
     "data": {
      "text/plain": [
       "False"
      ]
     },
     "execution_count": 14,
     "metadata": {},
     "output_type": "execute_result"
    }
   ],
   "source": [
    "fake_user in session"
   ]
  },
  {
   "cell_type": "code",
   "execution_count": 15,
   "metadata": {},
   "outputs": [
    {
     "name": "stdout",
     "output_type": "stream",
     "text": [
      "2022-12-15 17:41:56,630 INFO sqlalchemy.engine.Engine SELECT users.id AS users_id, users.name AS users_name, users.fullname AS users_fullname, users.password AS users_password \n",
      "FROM users ORDER BY users.id\n",
      "2022-12-15 17:41:56,635 INFO sqlalchemy.engine.Engine [generated in 0.00089s] ()\n",
      "<User(name='Patricia', fullname='Patricia Figueroa Millan', password='3121077428')>\n",
      "<User(name='Pedro', fullname='Pedro Alvarez', password='12345')>\n",
      "<User(name='Pablo', fullname='Pablo Perez', password='67890')>\n",
      "<User(name='Penelope', fullname='Penelope Sanchez', password='09876')>\n",
      "<User(name='Patricia', fullname='Patricia Figueroa Millan', password='3121077428')>\n",
      "<User(name='Pedro', fullname='Pedro Alvarez', password='12345')>\n",
      "<User(name='Pablo', fullname='Pablo Perez', password='67890')>\n",
      "<User(name='Penelope', fullname='Penelope Sanchez', password='09876')>\n",
      "<User(name='jack', fullname='Jack Bean', password='gjffdd')>\n",
      "<User(name='Patricia', fullname='Patricia Figueroa Millan', password='3121077428')>\n",
      "<User(name='Pedro', fullname='Pedro Alvarez', password='12345')>\n",
      "<User(name='Pablo', fullname='Pablo Perez', password='67890')>\n",
      "<User(name='Penelope', fullname='Penelope Sanchez', password='09876')>\n"
     ]
    }
   ],
   "source": [
    "for instance in session.query(User).order_by(User.id):\n",
    "    print(instance)"
   ]
  },
  {
   "cell_type": "code",
   "execution_count": 16,
   "metadata": {},
   "outputs": [
    {
     "name": "stdout",
     "output_type": "stream",
     "text": [
      "2022-12-15 17:41:56,672 INFO sqlalchemy.engine.Engine SELECT users.name AS users_name, users.fullname AS users_fullname \n",
      "FROM users\n",
      "2022-12-15 17:41:56,672 INFO sqlalchemy.engine.Engine [generated in 0.00083s] ()\n",
      "Patricia Patricia Figueroa Millan\n",
      "Pedro Pedro Alvarez\n",
      "Pablo Pablo Perez\n",
      "Penelope Penelope Sanchez\n",
      "Patricia Patricia Figueroa Millan\n",
      "Pedro Pedro Alvarez\n",
      "Pablo Pablo Perez\n",
      "Penelope Penelope Sanchez\n",
      "jack Jack Bean\n",
      "Patricia Patricia Figueroa Millan\n",
      "Pedro Pedro Alvarez\n",
      "Pablo Pablo Perez\n",
      "Penelope Penelope Sanchez\n"
     ]
    }
   ],
   "source": [
    "for name, fullname in session.query(User.name, User.fullname):\n",
    "    print(name, fullname)"
   ]
  },
  {
   "cell_type": "code",
   "execution_count": 17,
   "metadata": {},
   "outputs": [
    {
     "name": "stdout",
     "output_type": "stream",
     "text": [
      "2022-12-15 17:41:56,720 INFO sqlalchemy.engine.Engine SELECT users.id AS users_id, users.name AS users_name, users.fullname AS users_fullname, users.password AS users_password \n",
      "FROM users \n",
      "WHERE users.name = ?\n",
      "2022-12-15 17:41:56,720 INFO sqlalchemy.engine.Engine [generated in 0.00094s] ('Patricia',)\n",
      "<User(name='Patricia', fullname='Patricia Figueroa Millan', password='3121077428')>\n",
      "<User(name='Patricia', fullname='Patricia Figueroa Millan', password='3121077428')>\n",
      "<User(name='Patricia', fullname='Patricia Figueroa Millan', password='3121077428')>\n"
     ]
    }
   ],
   "source": [
    "for user in session.query(User).filter(User.name == 'Patricia'):\n",
    "    print(user)"
   ]
  },
  {
   "cell_type": "code",
   "execution_count": 18,
   "metadata": {},
   "outputs": [
    {
     "name": "stdout",
     "output_type": "stream",
     "text": [
      "2022-12-15 17:41:56,767 INFO sqlalchemy.engine.Engine SELECT users.id AS users_id, users.name AS users_name, users.fullname AS users_fullname, users.password AS users_password \n",
      "FROM users \n",
      "WHERE users.name != ?\n",
      "2022-12-15 17:41:56,767 INFO sqlalchemy.engine.Engine [generated in 0.00102s] ('Patricia',)\n",
      "<User(name='Pedro', fullname='Pedro Alvarez', password='12345')>\n",
      "<User(name='Pablo', fullname='Pablo Perez', password='67890')>\n",
      "<User(name='Penelope', fullname='Penelope Sanchez', password='09876')>\n",
      "<User(name='Pedro', fullname='Pedro Alvarez', password='12345')>\n",
      "<User(name='Pablo', fullname='Pablo Perez', password='67890')>\n",
      "<User(name='Penelope', fullname='Penelope Sanchez', password='09876')>\n",
      "<User(name='jack', fullname='Jack Bean', password='gjffdd')>\n",
      "<User(name='Pedro', fullname='Pedro Alvarez', password='12345')>\n",
      "<User(name='Pablo', fullname='Pablo Perez', password='67890')>\n",
      "<User(name='Penelope', fullname='Penelope Sanchez', password='09876')>\n"
     ]
    }
   ],
   "source": [
    "for user in session.query(User).filter(User.name != 'Patricia'):\n",
    "    print(user)"
   ]
  },
  {
   "cell_type": "code",
   "execution_count": 19,
   "metadata": {},
   "outputs": [
    {
     "name": "stdout",
     "output_type": "stream",
     "text": [
      "2022-12-15 17:41:56,814 INFO sqlalchemy.engine.Engine SELECT users.id AS users_id, users.name AS users_name, users.fullname AS users_fullname, users.password AS users_password \n",
      "FROM users \n",
      "WHERE users.name LIKE ?\n",
      "2022-12-15 17:41:56,814 INFO sqlalchemy.engine.Engine [generated in 0.00091s] ('%Patricia%',)\n",
      "<User(name='Patricia', fullname='Patricia Figueroa Millan', password='3121077428')>\n",
      "<User(name='Patricia', fullname='Patricia Figueroa Millan', password='3121077428')>\n",
      "<User(name='Patricia', fullname='Patricia Figueroa Millan', password='3121077428')>\n"
     ]
    }
   ],
   "source": [
    "for user in session.query(User).filter(User.name.like('%Patricia%')):\n",
    "    print(user)"
   ]
  },
  {
   "cell_type": "code",
   "execution_count": 20,
   "metadata": {},
   "outputs": [
    {
     "name": "stdout",
     "output_type": "stream",
     "text": [
      "2022-12-15 17:41:56,845 INFO sqlalchemy.engine.Engine SELECT users.id AS users_id, users.name AS users_name, users.fullname AS users_fullname, users.password AS users_password \n",
      "FROM users \n",
      "WHERE users.name IN (?, ?, ?)\n",
      "2022-12-15 17:41:56,861 INFO sqlalchemy.engine.Engine [cached since 0.4956s ago] ('Patricia', 'Pablo', 'Pedro')\n",
      "<User(name='Patricia', fullname='Patricia Figueroa Millan', password='3121077428')>\n",
      "<User(name='Pedro', fullname='Pedro Alvarez', password='12345')>\n",
      "<User(name='Pablo', fullname='Pablo Perez', password='67890')>\n",
      "<User(name='Patricia', fullname='Patricia Figueroa Millan', password='3121077428')>\n",
      "<User(name='Pedro', fullname='Pedro Alvarez', password='12345')>\n",
      "<User(name='Pablo', fullname='Pablo Perez', password='67890')>\n",
      "<User(name='Patricia', fullname='Patricia Figueroa Millan', password='3121077428')>\n",
      "<User(name='Pedro', fullname='Pedro Alvarez', password='12345')>\n",
      "<User(name='Pablo', fullname='Pablo Perez', password='67890')>\n"
     ]
    }
   ],
   "source": [
    "for user in session.query(User).filter(User.name.in_(['Patricia', 'Pablo', 'Pedro'])):\n",
    "    print(user)"
   ]
  },
  {
   "cell_type": "code",
   "execution_count": 21,
   "metadata": {},
   "outputs": [
    {
     "name": "stdout",
     "output_type": "stream",
     "text": [
      "2022-12-15 17:41:56,909 INFO sqlalchemy.engine.Engine SELECT users.id AS users_id, users.name AS users_name, users.fullname AS users_fullname, users.password AS users_password \n",
      "FROM users \n",
      "WHERE users.name = ? AND users.fullname = ?\n",
      "2022-12-15 17:41:56,909 INFO sqlalchemy.engine.Engine [generated in 0.00079s] ('Patricia', 'Patricia Figueroa Millan')\n",
      "<User(name='Patricia', fullname='Patricia Figueroa Millan', password='3121077428')>\n",
      "<User(name='Patricia', fullname='Patricia Figueroa Millan', password='3121077428')>\n",
      "<User(name='Patricia', fullname='Patricia Figueroa Millan', password='3121077428')>\n"
     ]
    }
   ],
   "source": [
    "for user in session.query(User).filter(User.name == 'Patricia', User.fullname == 'Patricia Figueroa Millan'):\n",
    "    print(user)"
   ]
  },
  {
   "cell_type": "code",
   "execution_count": 22,
   "metadata": {},
   "outputs": [
    {
     "name": "stdout",
     "output_type": "stream",
     "text": [
      "2022-12-15 17:41:56,941 INFO sqlalchemy.engine.Engine SELECT users.id AS users_id, users.name AS users_name, users.fullname AS users_fullname, users.password AS users_password \n",
      "FROM users \n",
      "WHERE users.name = ? OR users.name = ?\n",
      "2022-12-15 17:41:56,941 INFO sqlalchemy.engine.Engine [generated in 0.00091s] ('Patricia', 'Pablo')\n",
      "<User(name='Patricia', fullname='Patricia Figueroa Millan', password='3121077428')>\n",
      "<User(name='Pablo', fullname='Pablo Perez', password='67890')>\n",
      "<User(name='Patricia', fullname='Patricia Figueroa Millan', password='3121077428')>\n",
      "<User(name='Pablo', fullname='Pablo Perez', password='67890')>\n",
      "<User(name='Patricia', fullname='Patricia Figueroa Millan', password='3121077428')>\n",
      "<User(name='Pablo', fullname='Pablo Perez', password='67890')>\n"
     ]
    }
   ],
   "source": [
    "from sqlalchemy import or_\n",
    "for user in session.query(User).filter(or_(User.name == 'Patricia', User.name == 'Pablo')):\n",
    "    print(user)"
   ]
  },
  {
   "cell_type": "code",
   "execution_count": 23,
   "metadata": {},
   "outputs": [],
   "source": [
    "from sqlalchemy import ForeignKey\n",
    "from sqlalchemy.orm import relationship\n",
    "\n",
    "class Address(Base):\n",
    "    __tablename__ = 'addresses'\n",
    "    id = Column(Integer, primary_key=True)\n",
    "    email_address = Column(String, nullable=False)\n",
    "    user_id = Column(Integer, ForeignKey('users.id'))\n",
    "    user = relationship(\"User\", back_populates=\"addresses\")\n",
    "\n",
    "    def __repr__(self):\n",
    "        return \"<Address(email_address='%s')>\" % self.email_address"
   ]
  },
  {
   "cell_type": "code",
   "execution_count": 24,
   "metadata": {},
   "outputs": [
    {
     "name": "stdout",
     "output_type": "stream",
     "text": [
      "2022-12-15 17:41:57,036 INFO sqlalchemy.engine.Engine BEGIN (implicit)\n",
      "2022-12-15 17:41:57,036 INFO sqlalchemy.engine.Engine PRAGMA main.table_info(\"users\")\n",
      "2022-12-15 17:41:57,044 INFO sqlalchemy.engine.Engine [raw sql] ()\n",
      "2022-12-15 17:41:57,044 INFO sqlalchemy.engine.Engine PRAGMA main.table_info(\"addresses\")\n",
      "2022-12-15 17:41:57,044 INFO sqlalchemy.engine.Engine [raw sql] ()\n",
      "2022-12-15 17:41:57,044 INFO sqlalchemy.engine.Engine COMMIT\n"
     ]
    }
   ],
   "source": [
    "User.addresses = relationship(\"Address\", order_by=Address.id, back_populates=\"user\")\n",
    "\n",
    "Base.metadata.create_all(engine)"
   ]
  },
  {
   "cell_type": "code",
   "execution_count": 25,
   "metadata": {},
   "outputs": [
    {
     "data": {
      "text/plain": [
       "[]"
      ]
     },
     "execution_count": 25,
     "metadata": {},
     "output_type": "execute_result"
    }
   ],
   "source": [
    "jack = User(name='jack', fullname='Jack Bean', password='gjffdd')\n",
    "jack.addresses"
   ]
  },
  {
   "cell_type": "code",
   "execution_count": 26,
   "metadata": {},
   "outputs": [],
   "source": [
    "jack.addresses = [Address(email_address='jack@google.com'), Address(email_address='j25@yahoo.com')]"
   ]
  },
  {
   "cell_type": "code",
   "execution_count": 27,
   "metadata": {},
   "outputs": [
    {
     "data": {
      "text/plain": [
       "<Address(email_address='j25@yahoo.com')>"
      ]
     },
     "execution_count": 27,
     "metadata": {},
     "output_type": "execute_result"
    }
   ],
   "source": [
    "jack.addresses[1]"
   ]
  },
  {
   "cell_type": "code",
   "execution_count": 28,
   "metadata": {},
   "outputs": [
    {
     "data": {
      "text/plain": [
       "<User(name='jack', fullname='Jack Bean', password='gjffdd')>"
      ]
     },
     "execution_count": 28,
     "metadata": {},
     "output_type": "execute_result"
    }
   ],
   "source": [
    "jack.addresses[1].user"
   ]
  }
 ],
 "metadata": {
  "kernelspec": {
   "display_name": "Python 3",
   "language": "python",
   "name": "python3"
  },
  "language_info": {
   "codemirror_mode": {
    "name": "ipython",
    "version": 3
   },
   "file_extension": ".py",
   "mimetype": "text/x-python",
   "name": "python",
   "nbconvert_exporter": "python",
   "pygments_lexer": "ipython3",
   "version": "3.11.0 (main, Oct 24 2022, 18:26:48) [MSC v.1933 64 bit (AMD64)]"
  },
  "orig_nbformat": 4,
  "vscode": {
   "interpreter": {
    "hash": "81159d5e570f43b26c12023a9ce13ee7f7492879d193582c58d9e02755492c5f"
   }
  }
 },
 "nbformat": 4,
 "nbformat_minor": 2
}
