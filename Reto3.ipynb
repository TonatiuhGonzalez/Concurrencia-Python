{
  "nbformat": 4,
  "nbformat_minor": 0,
  "metadata": {
    "colab": {
      "provenance": [],
      "authorship_tag": "ABX9TyPT2QswV5LwQMyk32tIrVmh",
      "include_colab_link": true
    },
    "kernelspec": {
      "name": "python3",
      "display_name": "Python 3"
    },
    "language_info": {
      "name": "python"
    }
  },
  "cells": [
    {
      "cell_type": "markdown",
      "metadata": {
        "id": "view-in-github",
        "colab_type": "text"
      },
      "source": [
        "<a href=\"https://colab.research.google.com/github/TonatiuhGonzalez/Concurrencia-Python/blob/master/Reto3.ipynb\" target=\"_parent\"><img src=\"https://colab.research.google.com/assets/colab-badge.svg\" alt=\"Open In Colab\"/></a>"
      ]
    },
    {
      "cell_type": "markdown",
      "source": [
        "# **Tecnológico de Nacional de México campus Colima**\n",
        "Maestría en Sistemas Computacionales\n",
        "\n",
        "Tecnologías de programación\n",
        "\n",
        "**Reto Práctico 3:** Colas multiproductor y multiconsumidor\n",
        "\n",
        "Elaborado por: Sabino Tonatiuh González Rodríguez\n",
        "\n",
        "Profesora: Dra. Patricia Elizabeth Figueroa Millán"
      ],
      "metadata": {
        "id": "Q-TdmWwN7Ejd"
      }
    },
    {
      "cell_type": "markdown",
      "source": [
        "#**Introducción**\n",
        "El módulo estándar Queue o queue (Python 2 o 3, respectivamente) permite crear y trabajar con colas de manera sencilla. Es generalmente utilizado en programas multi-hilo, ya que provee una forma de intercambiar información entre threads de manera segura.\n",
        "\n",
        "Implementa tres tipos de colas, que difieren únicamente en el orden en que se retornan los ítems:\n",
        "\n",
        "  * FIFO (primero en entrar primero en salir, del inglés «First In First Out»): el primer ítem que es añadido a la lista es el primero en ser retornado.\n",
        "  *LIFO (último en entrar primero en salir, del inglés «Last In First Out»): el último ítem que es añadido a la lista es el primero en ser retornado.\n",
        "  *Priority Queue (cola de prioridad): el ítem de menor valor es el primero en ser retornado.\n",
        "\n",
        "Por lo tanto, cuenta con cinco clases: tres constructores (Queue, LifoQueue y PriorityQueue) junto con dos excepciones (Empty y Full).\n",
        "\n",
        "Los tres constructores toman como único parámetro opcional maxsize, un entero que indica el límite de ítems en la cola. En caso de ser negativo o no indicarse, el tamaño de la cola es infinito.\n",
        "\n",
        "#**Funciones**\n",
        "\n",
        "Todas las colas cuentan con 9 métodos públicos. A continuación, una breve descripción de cada uno.\n",
        "\n",
        "  * qsize(): retorna el tamaño aproximado de la cola.\n",
        " \n",
        "\n",
        "  * empty(): retorna True si la cola se encuentra vacía; False de lo contrario.\n",
        " \n",
        "\n",
        "  * full(): retorna True si la cola se encuentra llena; Falso de lo contrario.\n",
        " \n",
        "\n",
        "  * put(item, block=True, timeout=None): inserta item en la cola. Si block es True, timeout es None y la cola está llena, la función espera a que se libere un espacio para poder hacerlo. Si timeout es un número positivo, la función espera hasta dicho número en segundos y lanza la excepción Full si un espacio no se liberó en el lapso de tiempo. Si block es False, inserta item si inmediatamente hay un espacio libre; de lo contrario, lanza Full.\n",
        " \n",
        "\n",
        "  * put_nowait(item): equivalente a put(item, False).\n",
        " \n",
        "\n",
        "  * get(block=True, timeout=None): remueve y retorna un ítem de la cola. Si block es True, timeout es None y la cola está vacía, la función espera a que haya un ítem disponible. Si timeout es un número positivo, la función espera hasta dicho número en segundos y lanza la excepción Empty si no se encontró un ítem disponible en el lapso de tiempo. Si block es False, retorna un ítem si se encuentra inmediatamente disponible; de lo contrario, lanza Empty.\n",
        " \n",
        "\n",
        "  * get_nowait(): equivalente a get(False).\n",
        " \n",
        "\n",
        "  * task_done(): indica que una tarea de la cola se ha completado.\n",
        " \n",
        "\n",
        "  * join(): bloquea la ejecución hasta que todos los ítems en la cola se hayan obtenido.\n",
        "\n",
        "#**Excepciones**\n",
        "\n",
        "La excepción Empty es lanzada cuando se llama a get(False) o get_nowait() en una cola que se encuentra vacía. Análogamente, Full es lanzada cuando se llama a put(item, False) o put_nowait(item) en una cola que ha alcanzado el número máximo de ítems (maxsize).\n",
        "\n",
        "#**Priority Queue**\n",
        "\n",
        "En las colas de prioridad los ítems generalmente se insertan como una tupla, a diferencia de las FIFO y LIFO, indicando el número en el primer lugar y los datos en el segundo. Por ejemplo:\n",
        "\n",
        "(5, \"Perro\")\n",
        "(10, \"Gato\")\n",
        "(1, \"Conejo\")\n",
        "\n",
        "Aplicados a una cola de este tipo serían retornados en el orden:\n",
        "\n",
        "(1, 'Conejo')\n",
        "(5, 'Perro')\n",
        "(10, 'Gato')\n",
        "\n",
        "Ya que el primer valor de la tupla indica su prioridad. Los ítems con menor prioridad serán los primeros en ser retornados."
      ],
      "metadata": {
        "id": "muDNmcyB7nQm"
      }
    },
    {
      "cell_type": "code",
      "execution_count": 1,
      "metadata": {
        "colab": {
          "base_uri": "https://localhost:8080/"
        },
        "id": "UfiSJ3aa7BZg",
        "outputId": "92185e64-982e-4e90-a018-31058332c07f"
      },
      "outputs": [
        {
          "output_type": "stream",
          "name": "stdout",
          "text": [
            "Cola FIFO\n",
            "Perro\n",
            "Gato\n",
            "Conejo\n",
            "\n",
            "Cola LIFO\n",
            "Conejo\n",
            "Gato\n",
            "Perro\n",
            "\n",
            "Cola de prioridad\n",
            "(1, 'Conejo')\n",
            "(2, 'Perro')\n",
            "(3, 'Gato')\n"
          ]
        }
      ],
      "source": [
        "try:\n",
        "    import Queue as queue\n",
        "except ImportError:\n",
        "    # Python 3\n",
        "    import queue\n",
        "fifo_queue = queue.Queue(3)\n",
        "lifo_queue = queue.LifoQueue(3)\n",
        "priority_queue = queue.PriorityQueue(3)\n",
        "fifo_queue.put(\"Perro\")\n",
        "fifo_queue.put(\"Gato\")\n",
        "fifo_queue.put(\"Conejo\")\n",
        "lifo_queue.put(\"Perro\")\n",
        "lifo_queue.put(\"Gato\")\n",
        "lifo_queue.put(\"Conejo\")\n",
        "priority_queue.put((2, \"Perro\"))\n",
        "priority_queue.put((3, \"Gato\"))\n",
        "priority_queue.put((1, \"Conejo\"))\n",
        "print(\"Cola FIFO\")\n",
        "print(fifo_queue.get())\n",
        "print(fifo_queue.get())\n",
        "print(fifo_queue.get())\n",
        "print(\"\\nCola LIFO\")\n",
        "print(lifo_queue.get())\n",
        "print(lifo_queue.get())\n",
        "print(lifo_queue.get())\n",
        "print(\"\\nCola de prioridad\")\n",
        "print(priority_queue.get())\n",
        "print(priority_queue.get())\n",
        "print(priority_queue.get())"
      ]
    }
  ]
}