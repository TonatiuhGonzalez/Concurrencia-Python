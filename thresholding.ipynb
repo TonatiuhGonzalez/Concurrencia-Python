{
  "nbformat": 4,
  "nbformat_minor": 0,
  "metadata": {
    "colab": {
      "provenance": [],
      "include_colab_link": true
    },
    "kernelspec": {
      "name": "python3",
      "display_name": "Python 3"
    },
    "language_info": {
      "name": "python"
    }
  },
  "cells": [
    {
      "cell_type": "markdown",
      "metadata": {
        "id": "view-in-github",
        "colab_type": "text"
      },
      "source": [
        "<a href=\"https://colab.research.google.com/github/TonatiuhGonzalez/Concurrencia-Python/blob/master/thresholding.ipynb\" target=\"_parent\"><img src=\"https://colab.research.google.com/assets/colab-badge.svg\" alt=\"Open In Colab\"/></a>"
      ]
    },
    {
      "cell_type": "code",
      "source": [
        "from multiprocessing import Pool\n",
        "from multiprocessing import Process\n",
        "\n",
        "import numpy as np\n",
        "import glob\n",
        "import matplotlib.pyplot as plt\n",
        "import skimage.io\n",
        "import skimage.color\n",
        "import skimage.filters\n",
        "\n",
        "# Read Images\n",
        "def multi_thresh(threshold):\n",
        "  \n",
        "  img = mpimg.imread('/content/sample_data/tangram.jpg')\n",
        "  #img = mpimg.imread('/content/sample_data/shapes.jpeg')\n",
        "  # Output Images\n",
        "\n",
        "  fig, ax = plt.subplots()\n",
        "  plt.imshow(img)\n",
        "\n",
        "  # convert the image to grayscale\n",
        "  gray_image = skimage.color.rgb2gray(img)\n",
        "\n",
        "  # blur the image to denoise\n",
        "  blurred_image = skimage.filters.gaussian(gray_image, sigma=1.0)\n",
        "\n",
        "  fig, ax = plt.subplots()\n",
        "  plt.imshow(blurred_image, cmap=\"gray\")\n",
        "\n",
        "  # create a mask based on the threshold\n",
        "  binary_mask = blurred_image < threshold\n",
        "  fig, ax = plt.subplots()\n",
        "  plt.imshow(binary_mask, cmap=\"gray\")\n",
        "\n",
        "  # use the binary_mask to select the \"interesting\" part of the image\n",
        "  selection = img.copy()\n",
        "  selection[~binary_mask] = 0\n",
        "\n",
        "  fig, ax = plt.subplots()\n",
        "  plt.imshow(selection)\n",
        "\n",
        "value = 0.6\n",
        "multi_thresh(value)\n",
        "\n",
        "if __name__ == '__main__':\n",
        "  with Pool() as p:\n",
        "    f = (0.1,0.2)\n",
        "    p.map(multi_thresh,f)"
      ],
      "metadata": {
        "id": "xIxCJt1Dz5hU"
      },
      "execution_count": null,
      "outputs": []
    },
    {
      "cell_type": "code",
      "source": [],
      "metadata": {
        "id": "g06Xg2xC1b6c"
      },
      "execution_count": null,
      "outputs": []
    }
  ]
}