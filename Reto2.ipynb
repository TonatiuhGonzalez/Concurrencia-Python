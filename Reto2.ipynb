{
  "nbformat": 4,
  "nbformat_minor": 0,
  "metadata": {
    "colab": {
      "provenance": [],
      "authorship_tag": "ABX9TyPIF2tJgiWzXmanMiFk4kiN",
      "include_colab_link": true
    },
    "kernelspec": {
      "name": "python3",
      "display_name": "Python 3"
    },
    "language_info": {
      "name": "python"
    }
  },
  "cells": [
    {
      "cell_type": "markdown",
      "metadata": {
        "id": "view-in-github",
        "colab_type": "text"
      },
      "source": [
        "<a href=\"https://colab.research.google.com/github/TonatiuhGonzalez/Concurrencia-Python/blob/master/Reto2.ipynb\" target=\"_parent\"><img src=\"https://colab.research.google.com/assets/colab-badge.svg\" alt=\"Open In Colab\"/></a>"
      ]
    },
    {
      "cell_type": "markdown",
      "source": [
        "# **Tecnológico de Nacional de México campus Colima**\n",
        "Maestría en Sistemas Computacionales\n",
        "\n",
        "Tecnologías de programación\n",
        "\n",
        "**Reto Práctico 2:** Primitivas de Sincronización\n",
        "\n",
        "Elaborado por: Sabino Tonatiuh González Rodríguez\n",
        "\n",
        "Profesora: Dra. Patricia Elizabeth Figueroa Millán"
      ],
      "metadata": {
        "id": "BDnvNJA8z0dI"
      }
    },
    {
      "cell_type": "markdown",
      "source": [
        "#**Lock**\n",
        "\n",
        "Implementa un cierre de exclusión mutua para tareas asyncio. No es seguro en hilos.\n",
        "\n",
        "Un cierre asyncio puede usarse para garantizar el acceso en exclusiva a un recurso compartido.\n",
        "\n",
        "Un Lock se puede usar para proteger el acceso a un recurso compartido. Solamente el titular del bloqueo puede utilizar el recurso. Múltiples intentos de adquirir la cerradura se bloquearán de modo que solo haya un titular en cada momento."
      ],
      "metadata": {
        "id": "-KtFjs4G0aHS"
      }
    },
    {
      "cell_type": "code",
      "source": [
        "import threading\n",
        "import time\n",
        "from random import randint\n",
        "                    \n",
        "class SharedCounter(object):\n",
        "  \n",
        "    def __init__(self, val = 0):\n",
        "        self.lock = threading.Lock()\n",
        "        self.counter = val\n",
        "        \n",
        "    def increment(self):\n",
        "        print(\"Waiting for a lock\")\n",
        "        self.lock.acquire()\n",
        "        try:\n",
        "            print('Acquired a lock, counter value: ', self.counter)\n",
        "            self.counter = self.counter + 1\n",
        "        finally:\n",
        "            print('Released a lock, counter value: ', self.counter)\n",
        "            self.lock.release()\n",
        "\n",
        "def task(c):\n",
        "    # picking up a random number\n",
        "    r = randint(1,5)\n",
        "    # running increment for a random number of times\n",
        "    for i in range(r):\n",
        "      c.increment()\n",
        "    print('Done')\n",
        "\n",
        "if __name__ == '__main__':\n",
        "    sCounter = SharedCounter()\n",
        "\n",
        "    t1 = threading.Thread(target=task, args=(sCounter,))\n",
        "    t1.start()\n",
        "    \n",
        "    t2 = threading.Thread(target=task, args=(sCounter,))\n",
        "    t2.start()\n",
        "\n",
        "    print('Waiting for worker threads')"
      ],
      "metadata": {
        "colab": {
          "base_uri": "https://localhost:8080/"
        },
        "id": "3pOrOHz82bXy",
        "outputId": "f303f718-1c96-4f37-fd4b-e974b16f3779"
      },
      "execution_count": null,
      "outputs": [
        {
          "output_type": "stream",
          "name": "stdout",
          "text": [
            "Waiting for a lock\n",
            "Acquired a lock, counter value:  0\n",
            "Released a lock, counter value:  1\n",
            "Waiting for a lock\n",
            "Acquired a lock, counter value:  1\n",
            "Released a lock, counter value:  2\n",
            "Waiting for a lock\n",
            "Acquired a lock, counter value:  2\n",
            "Released a lock, counter value:  3\n",
            "Waiting for a lock\n",
            "Acquired a lock, counter value:  3\n",
            "Released a lock, counter value:  4\n",
            "Waiting for a lock\n",
            "Acquired a lock, counter value:  4\n",
            "Released a lock, counter value:  5\n",
            "Done\n",
            "Waiting for a lock\n",
            "Acquired a lock, counter value:  5\n",
            "Released a lock, counter value:  6\n",
            "Waiting for a lock\n",
            "Acquired a lock, counter value:  6\n",
            "Released a lock, counter value:  7\n",
            "Waiting for a lock\n",
            "Acquired a lock, counter value:  7\n",
            "Released a lock, counter value:  8\n",
            "Waiting for a lock\n",
            "Acquired a lock, counter value:  8\n",
            "Released a lock, counter value:  9\n",
            "Done\n",
            "Waiting for worker threads\n"
          ]
        }
      ]
    },
    {
      "cell_type": "markdown",
      "source": [
        "#**Event**\n",
        "\n",
        "Un objeto de eventos. No es seguro en hilos.\n",
        "\n",
        "Un evento asyncio puede usarse para notificar a múltiples tareas asyncio que ha ocurrido algún evento.\n",
        "\n",
        "Un objeto Event administra una bandera interna que se puede establecer en true con el método set() y se restablece en false con el método clear(). El método wait() se bloquea hasta que la bandera se establece en true. El flag se establece en false inicialmente.\n",
        "\n",
        "Un asyncio.Event se basa en threading.Event, y se utiliza para permitir que varios consumidores esperen a que suceda algo sin buscar un valor específico para ser asociado con la notificación."
      ],
      "metadata": {
        "id": "hXtHI9hO0et8"
      }
    },
    {
      "cell_type": "code",
      "source": [
        "import threading\n",
        "import time\n",
        "\n",
        "def task(event, timeout):\n",
        "  print(\"Started thread but waiting for event...\")\n",
        "  # make the thread wait for event with timeout set\n",
        "  event_set = event.wait(timeout)\n",
        "  if event_set:\n",
        "    print(\"Event received, releasing thread...\")\n",
        "  else:\n",
        "    print(\"Time out, moving ahead without event...\")\n",
        "    \n",
        "if __name__ == '__main__':\n",
        "  # initializing the event object\n",
        "  e = threading.Event()\n",
        "  \n",
        "  # starting the thread\n",
        "  thread1 = threading.Thread(name='Event-Blocking-Thread', target=task, args=(e,4))\n",
        "  thread1.start()\n",
        "  # sleeping the main thread for 3 seconds\n",
        "  time.sleep(3)\n",
        "  # generating the event\n",
        "  e.set()\n",
        "  print(\"Event is set.\")\n",
        "  \n",
        "  "
      ],
      "metadata": {
        "colab": {
          "base_uri": "https://localhost:8080/"
        },
        "id": "DR3sAf6Z2-Il",
        "outputId": "0a649622-68a9-4c59-992e-5025f6b73bea"
      },
      "execution_count": null,
      "outputs": [
        {
          "output_type": "stream",
          "name": "stdout",
          "text": [
            "Started thread but waiting for event...\n"
          ]
        },
        {
          "output_type": "stream",
          "name": "stderr",
          "text": [
            "/usr/local/lib/python3.8/dist-packages/debugpy/_vendored/pydevd/_pydevd_bundle/pydevd_net_command.py:57: RuntimeWarning: coroutine 'main' was never awaited\n",
            "  self.id = cmd_id\n",
            "RuntimeWarning: Enable tracemalloc to get the object allocation traceback\n"
          ]
        },
        {
          "output_type": "stream",
          "name": "stdout",
          "text": [
            "Event is set.\n",
            "Event received, releasing thread...\n"
          ]
        }
      ]
    },
    {
      "cell_type": "markdown",
      "source": [
        "#**Condition**\n",
        "\n",
        "Un objeto Condition. No seguro en hilos.\n",
        "\n",
        "Una tarea puede usar una condición primitiva de asyncio para esperar a que suceda algún evento y luego obtener acceso exclusivo a un recurso compartido.\n",
        "\n",
        "En esencia, un objeto Condition combina la funcionalidad de un objeto Event y un objeto Lock. Es posible tener múltiples objetos Condition que compartan un mismo Lock, lo que permite coordinar el acceso exclusivo a un recurso compartido entre diferentes tareas interesadas en estados particulares de ese recurso compartido.\n",
        "\n",
        "Una Condition funciona de manera similar a un Event excepto que en lugar de notificar a todas las co-rutinas en espera de el número de procesos en espera que han sido despertados se controla con un argumento para notify()."
      ],
      "metadata": {
        "id": "a9MEbLVJ0gg1"
      }
    },
    {
      "cell_type": "code",
      "source": [
        "import threading\n",
        "import time\n",
        "from random import randint\n",
        "\n",
        "class SomeItem:\n",
        "  # init method\n",
        "  def __init__(self):\n",
        "    # initialize empty list\n",
        "    self.list = []\n",
        "  \n",
        "  # add to list method for producer\n",
        "  def produce(self, item):\n",
        "    print(\"Adding item to list...\")\n",
        "    self.list.append(item)\n",
        "    \n",
        "  # remove item from list method for consumer\n",
        "  def consume(self):\n",
        "    print(\"consuming item from list...\")\n",
        "    item = self.list[0]\n",
        "    print(\"Item consumed: \", item)\n",
        "    self.list.remove(item)\n",
        "\n",
        "def producer(si, cond):\n",
        "    r = randint(1,5)\n",
        "    # creating random number of items\n",
        "    for i in range(1, r):\n",
        "      print(\"working on item creation, it will take: \" + str(i) + \" seconds\")\n",
        "      time.sleep(i)\n",
        "      print(\"acquiring lock...\")\n",
        "      cond.acquire()\n",
        "      try:\n",
        "        si.produce(i)\n",
        "        cond.notify()\n",
        "      finally:\n",
        "        cond.release()\n",
        "      \n",
        "def consumer(si, cond):\n",
        "    cond.acquire()\n",
        "    while True:\n",
        "      try:\n",
        "        si.consume()\n",
        "      except:\n",
        "        print(\"No item to consume...\")\n",
        "        # wait with a maximum timeout of 10 sec\n",
        "        val = cond.wait(10)\n",
        "        if val:\n",
        "          print(\"notification received about item production...\")\n",
        "          continue\n",
        "        else:\n",
        "          print(\"waiting timeout...\")\n",
        "          break\n",
        "        \n",
        "    cond.release()\n",
        "    \n",
        "if __name__=='__main__':\n",
        "  # condition object\n",
        "  cond = threading.Condition()\n",
        "  # SomeItem object\n",
        "  si = SomeItem()\n",
        "  # producer thread\n",
        "  p = threading.Thread(target=producer, args=(si,cond,))\n",
        "  p.start()\n",
        "  # consumer thread\n",
        "  c = threading.Thread(target=consumer, args=(si,cond,))\n",
        "  c.start()\n",
        "\n",
        "  #print('Waiting for producer and consumer threads...')\n",
        "  p.join()\n",
        "  c.join()\n",
        "  print(\"Done\")"
      ],
      "metadata": {
        "colab": {
          "base_uri": "https://localhost:8080/"
        },
        "id": "-dhHlvLQ4Y_f",
        "outputId": "1a8f12d9-2d25-4d85-ac7c-15c32d69182a"
      },
      "execution_count": null,
      "outputs": [
        {
          "output_type": "stream",
          "name": "stdout",
          "text": [
            "working on item creation, it will take: 1 seconds\n",
            "consuming item from list...\n",
            "No item to consume...\n",
            "acquiring lock...\n",
            "Adding item to list...\n",
            "working on item creation, it will take: 2 seconds\n",
            "notification received about item production...\n",
            "consuming item from list...\n",
            "Item consumed:  1\n",
            "consuming item from list...\n",
            "No item to consume...\n",
            "acquiring lock...\n",
            "Adding item to list...\n",
            "working on item creation, it will take: 3 seconds\n",
            "notification received about item production...\n",
            "consuming item from list...\n",
            "Item consumed:  2\n",
            "consuming item from list...\n",
            "No item to consume...\n",
            "acquiring lock...\n",
            "Adding item to list...\n",
            "notification received about item production...\n",
            "consuming item from list...\n",
            "Item consumed:  3\n",
            "consuming item from list...\n",
            "No item to consume...\n",
            "waiting timeout...\n",
            "Done\n"
          ]
        }
      ]
    },
    {
      "cell_type": "markdown",
      "source": [
        "#**Semaphore**\n",
        "\n",
        "Un semáforo gestiona un contador interno que se reduce en cada llamada al método acquire() y se incrementa en cada llamada al método release(). El contador nunca puede bajar de cero, cuando acquire() encuentra que es cero, se bloquea, esperando hasta que alguna tarea llame a release().\n",
        "\n",
        "El argumento opcional value proporciona el valor inicial para el contador interno (1 por defecto). Si el valor dado es menor que 0 se lanza una excepción ValueError.\n",
        "\n"
      ],
      "metadata": {
        "id": "ooYn7Sjo0iWV"
      }
    },
    {
      "cell_type": "code",
      "source": [
        "# importing the modules  \n",
        "from threading import *           \n",
        "import time          \n",
        "    \n",
        "# creating thread instance where count = 3  \n",
        "my_obj = Semaphore(4)          \n",
        "    \n",
        "# creating instance  \n",
        "def show(the_name):  \n",
        "      \n",
        "    # calling acquire method  \n",
        "    my_obj.acquire()                  \n",
        "    for n in range(6):  \n",
        "        print('Javatpoint, ', end = '')  \n",
        "        time.sleep(1)  \n",
        "        print(the_name)  \n",
        "            \n",
        "        # calling release method  \n",
        "        my_obj.release()      \n",
        "            \n",
        "# creating multiple thread   \n",
        "thread_1 = Thread(target = show , args = ('Thread 1',))  \n",
        "thread_2 = Thread(target = show , args = ('Thread 2',))  \n",
        "thread_3 = Thread(target = show , args = ('Thread 3',))  \n",
        "thread_4 = Thread(target = show , args = ('Thread 4',))  \n",
        "thread_5 = Thread(target = show , args = ('Thread 5',))  \n",
        "thread_6 = Thread(target = show , args = ('Thread 6',))  \n",
        "  \n",
        "# calling the threads   \n",
        "thread_1.start()  \n",
        "thread_2.start()  \n",
        "thread_3.start()  \n",
        "thread_4.start()  \n",
        "thread_5.start()  \n",
        "thread_6.start()  "
      ],
      "metadata": {
        "colab": {
          "base_uri": "https://localhost:8080/"
        },
        "id": "icI_3YXc5B3M",
        "outputId": "f7bc2941-a289-40ba-daf5-25f3bd32efc7"
      },
      "execution_count": null,
      "outputs": [
        {
          "output_type": "stream",
          "name": "stdout",
          "text": [
            "Javatpoint, Javatpoint, Javatpoint, Javatpoint, "
          ]
        }
      ]
    },
    {
      "cell_type": "markdown",
      "source": [
        "#**BoundedSemaphore**\n",
        "\n",
        "Un objeto semáforo delimitado. No es seguro en hilos.\n",
        "\n",
        "BoundedSemaphore es una versión de la clase Semaphore que lanza una excepción ValueError en release() si aumenta el contador interno por encima del valor inicial."
      ],
      "metadata": {
        "id": "BcQETgwR0kof"
      }
    },
    {
      "cell_type": "code",
      "source": [
        "import threading\n",
        "from time import sleep\n",
        "import logging\n",
        "\n",
        "logging.basicConfig(\n",
        "    level=logging.DEBUG,\n",
        "    format='%(asctime)s (%(threadName)-2s) %(message)s',\n",
        ")\n",
        "# clase que administra la conexión de base de datos\n",
        "class DBManager:\n",
        "    def __init__(self) -> None:\n",
        "        self.lock = threading.Lock()\n",
        "        self.active_connections = []\n",
        "\n",
        "    def connect(self, name):\n",
        "        with self.lock:\n",
        "            self.active_connections.append(name)\n",
        "            print(f'Conexiones activas: {self.active_connections}')\n",
        "            sleep(0.1)\n",
        "    \n",
        "    def disconnect(self, name):\n",
        "        with self.lock:\n",
        "            self.active_connections.remove(name)\n",
        "            print(f'Conexiones activas: {self.active_connections}')\n",
        "            sleep(0.1)\n",
        "\n",
        "# método que simula la conexión a la base de datos\n",
        "def handle_request(manager, semaphore,breaker):\n",
        "    logging.debug('Esperando por conexión')\n",
        "    semaphore.acquire()\n",
        "    name = threading.current_thread().name\n",
        "    manager.connect(name)\n",
        "    sleep(1)\n",
        "    manager.disconnect(name)\n",
        "    semaphore.release()\n",
        "\n",
        "    if(breaker):\n",
        "        semaphore.release()\n",
        "\n",
        "# creación de semáforo\n",
        "semaphore = threading.BoundedSemaphore(3)\n",
        "\n",
        "# creación de administrador de base de datos\n",
        "manager = DBManager()\n",
        "\n",
        "# crear hilos\n",
        "for i in range(10):\n",
        "    threading.Thread(target=handle_request, args=(manager, semaphore, i == 9),name=\"hilo \"+str(i)).start()\n",
        "\n",
        "# join \n",
        "for i in threading.enumerate():\n",
        "    if i.name.startswith(\"hilo\"):\n",
        "        i.join()\n"
      ],
      "metadata": {
        "colab": {
          "base_uri": "https://localhost:8080/"
        },
        "id": "qsCLHKHP6Cx0",
        "outputId": "b64dd9c3-6a3d-48e1-f6a4-234000066510"
      },
      "execution_count": null,
      "outputs": [
        {
          "output_type": "stream",
          "name": "stdout",
          "text": [
            "Conexiones activas: ['hilo 0']\n",
            "Conexiones activas: ['hilo 0', 'hilo 1']\n",
            "Conexiones activas: ['hilo 0', 'hilo 1', 'hilo 2']\n",
            "Conexiones activas: ['hilo 1', 'hilo 2']\n",
            "Conexiones activas: ['hilo 1', 'hilo 2', 'hilo 3']\n",
            "Conexiones activas: ['hilo 1', 'hilo 3']\n",
            "Conexiones activas: ['hilo 3']\n",
            "Conexiones activas: ['hilo 3', 'hilo 5']\n",
            "Conexiones activas: ['hilo 3', 'hilo 5', 'hilo 4']\n",
            "Conexiones activas: ['hilo 5', 'hilo 4']\n",
            "Conexiones activas: ['hilo 5', 'hilo 4', 'hilo 6']\n",
            "Conexiones activas: ['hilo 4', 'hilo 6']\n",
            "Conexiones activas: ['hilo 6']\n",
            "Conexiones activas: ['hilo 6', 'hilo 7']\n",
            "Conexiones activas: ['hilo 6', 'hilo 7', 'hilo 8']\n",
            "Conexiones activas: ['hilo 7', 'hilo 8']\n",
            "Conexiones activas: ['hilo 7', 'hilo 8', 'hilo 9']\n",
            "Conexiones activas: ['hilo 8', 'hilo 9']\n",
            "Conexiones activas: ['hilo 9']\n"
          ]
        },
        {
          "output_type": "stream",
          "name": "stderr",
          "text": [
            "Exception in thread hilo 9:\n",
            "Traceback (most recent call last):\n",
            "  File \"/usr/lib/python3.8/threading.py\", line 932, in _bootstrap_inner\n",
            "    self.run()\n",
            "  File \"/usr/lib/python3.8/threading.py\", line 870, in run\n",
            "    self._target(*self._args, **self._kwargs)\n",
            "  File \"<ipython-input-24-2cf4ab292ad7>\", line 38, in handle_request\n",
            "  File \"/usr/lib/python3.8/threading.py\", line 489, in release\n",
            "    raise ValueError(\"Semaphore released too many times\")\n",
            "ValueError: Semaphore released too many times\n"
          ]
        },
        {
          "output_type": "stream",
          "name": "stdout",
          "text": [
            "Conexiones activas: []\n"
          ]
        }
      ]
    },
    {
      "cell_type": "markdown",
      "source": [
        "#**Barrier**\n",
        "\n",
        "Un objeto barrera. No es seguro para los hilos.\n",
        "\n",
        "Una barrera es una primitiva de sincronización simple que permite bloquear hasta que un número determinado de tareas estén esperando en ella. Las tareas pueden esperar en el método wait() y se bloquearían hasta que el número especificado de tareas terminen de esperar en wait(). En ese momento todas las tareas en espera se desbloquearían simultáneamente.\n",
        "\n",
        "async with puede utilizarse como alternativa a la espera en wait().\n",
        "\n",
        "La barrera puede ser reutilizada cualquier número de veces."
      ],
      "metadata": {
        "id": "y4pOxUVB0mvw"
      }
    },
    {
      "cell_type": "code",
      "source": [
        "import threading\n",
        "import time\n",
        "\n",
        "def start_server():\n",
        "  # starting server\n",
        "  print(\"starting the server...\")\n",
        "  # do some startup work\n",
        "  time.sleep(2)\n",
        "  \n",
        "\n",
        "def server(b):\n",
        "    start_server()\n",
        "    b.wait()\n",
        "    print(\"Server is ready.\")\n",
        "\n",
        "def client(b):\n",
        "    print(\"waiting for server getting ready...\")\n",
        "    b.wait()\n",
        "    print(\"sending request to server...\")\n",
        "\n",
        "if __name__=='__main__':\n",
        "  \n",
        "  b = threading.Barrier(2, timeout=5)\n",
        "  # server thread\n",
        "  s = threading.Thread(target=server, args=(b,))\n",
        "  s.start()\n",
        "  # client thread\n",
        "  c = threading.Thread(target=client, args=(b,))\n",
        "  c.start()\n",
        "\n",
        "  s.join()\n",
        "  c.join()\n",
        "  print(\"Done\")"
      ],
      "metadata": {
        "colab": {
          "base_uri": "https://localhost:8080/"
        },
        "id": "pdn2aS2z4t_S",
        "outputId": "a191e16d-9369-4e18-ecab-da7f48c4b53f"
      },
      "execution_count": null,
      "outputs": [
        {
          "output_type": "stream",
          "name": "stdout",
          "text": [
            "starting the server...\n",
            "waiting for server getting ready...\n",
            "Server is ready.\n",
            "sending request to server...\n",
            "Done\n"
          ]
        }
      ]
    }
  ]
}